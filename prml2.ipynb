{
  "nbformat": 4,
  "nbformat_minor": 0,
  "metadata": {
    "colab": {
      "provenance": [],
      "collapsed_sections": [
        "9ZJWzdsTYVoZ",
        "JHwwYnb_CHKk",
        "nAwVekuMFaxm",
        "cgxhTv0bFxKd",
        "wFuKfMpp08Xb"
      ]
    },
    "kernelspec": {
      "name": "python3",
      "display_name": "Python 3"
    },
    "language_info": {
      "name": "python"
    }
  },
  "cells": [
    {
      "cell_type": "code",
      "execution_count": null,
      "metadata": {
        "id": "mSf4qwy48ZXI"
      },
      "outputs": [],
      "source": [
        "import pandas as pd\n",
        "import numpy as np\n",
        "import matplotlib.pyplot as plt"
      ]
    },
    {
      "cell_type": "code",
      "source": [
        "\n",
        "from google.colab import files\n",
        "\n",
        "\n",
        "uploaded = files.upload()"
      ],
      "metadata": {
        "colab": {
          "base_uri": "https://localhost:8080/",
          "height": 73
        },
        "id": "jq_cYVx69dTO",
        "outputId": "c981ef99-ca38-4519-dadf-7780769d4306"
      },
      "execution_count": null,
      "outputs": [
        {
          "output_type": "display_data",
          "data": {
            "text/plain": [
              "<IPython.core.display.HTML object>"
            ],
            "text/html": [
              "\n",
              "     <input type=\"file\" id=\"files-9f92e8e4-06bc-488f-b36a-692c8d21d1f7\" name=\"files[]\" multiple disabled\n",
              "        style=\"border:none\" />\n",
              "     <output id=\"result-9f92e8e4-06bc-488f-b36a-692c8d21d1f7\">\n",
              "      Upload widget is only available when the cell has been executed in the\n",
              "      current browser session. Please rerun this cell to enable.\n",
              "      </output>\n",
              "      <script>// Copyright 2017 Google LLC\n",
              "//\n",
              "// Licensed under the Apache License, Version 2.0 (the \"License\");\n",
              "// you may not use this file except in compliance with the License.\n",
              "// You may obtain a copy of the License at\n",
              "//\n",
              "//      http://www.apache.org/licenses/LICENSE-2.0\n",
              "//\n",
              "// Unless required by applicable law or agreed to in writing, software\n",
              "// distributed under the License is distributed on an \"AS IS\" BASIS,\n",
              "// WITHOUT WARRANTIES OR CONDITIONS OF ANY KIND, either express or implied.\n",
              "// See the License for the specific language governing permissions and\n",
              "// limitations under the License.\n",
              "\n",
              "/**\n",
              " * @fileoverview Helpers for google.colab Python module.\n",
              " */\n",
              "(function(scope) {\n",
              "function span(text, styleAttributes = {}) {\n",
              "  const element = document.createElement('span');\n",
              "  element.textContent = text;\n",
              "  for (const key of Object.keys(styleAttributes)) {\n",
              "    element.style[key] = styleAttributes[key];\n",
              "  }\n",
              "  return element;\n",
              "}\n",
              "\n",
              "// Max number of bytes which will be uploaded at a time.\n",
              "const MAX_PAYLOAD_SIZE = 100 * 1024;\n",
              "\n",
              "function _uploadFiles(inputId, outputId) {\n",
              "  const steps = uploadFilesStep(inputId, outputId);\n",
              "  const outputElement = document.getElementById(outputId);\n",
              "  // Cache steps on the outputElement to make it available for the next call\n",
              "  // to uploadFilesContinue from Python.\n",
              "  outputElement.steps = steps;\n",
              "\n",
              "  return _uploadFilesContinue(outputId);\n",
              "}\n",
              "\n",
              "// This is roughly an async generator (not supported in the browser yet),\n",
              "// where there are multiple asynchronous steps and the Python side is going\n",
              "// to poll for completion of each step.\n",
              "// This uses a Promise to block the python side on completion of each step,\n",
              "// then passes the result of the previous step as the input to the next step.\n",
              "function _uploadFilesContinue(outputId) {\n",
              "  const outputElement = document.getElementById(outputId);\n",
              "  const steps = outputElement.steps;\n",
              "\n",
              "  const next = steps.next(outputElement.lastPromiseValue);\n",
              "  return Promise.resolve(next.value.promise).then((value) => {\n",
              "    // Cache the last promise value to make it available to the next\n",
              "    // step of the generator.\n",
              "    outputElement.lastPromiseValue = value;\n",
              "    return next.value.response;\n",
              "  });\n",
              "}\n",
              "\n",
              "/**\n",
              " * Generator function which is called between each async step of the upload\n",
              " * process.\n",
              " * @param {string} inputId Element ID of the input file picker element.\n",
              " * @param {string} outputId Element ID of the output display.\n",
              " * @return {!Iterable<!Object>} Iterable of next steps.\n",
              " */\n",
              "function* uploadFilesStep(inputId, outputId) {\n",
              "  const inputElement = document.getElementById(inputId);\n",
              "  inputElement.disabled = false;\n",
              "\n",
              "  const outputElement = document.getElementById(outputId);\n",
              "  outputElement.innerHTML = '';\n",
              "\n",
              "  const pickedPromise = new Promise((resolve) => {\n",
              "    inputElement.addEventListener('change', (e) => {\n",
              "      resolve(e.target.files);\n",
              "    });\n",
              "  });\n",
              "\n",
              "  const cancel = document.createElement('button');\n",
              "  inputElement.parentElement.appendChild(cancel);\n",
              "  cancel.textContent = 'Cancel upload';\n",
              "  const cancelPromise = new Promise((resolve) => {\n",
              "    cancel.onclick = () => {\n",
              "      resolve(null);\n",
              "    };\n",
              "  });\n",
              "\n",
              "  // Wait for the user to pick the files.\n",
              "  const files = yield {\n",
              "    promise: Promise.race([pickedPromise, cancelPromise]),\n",
              "    response: {\n",
              "      action: 'starting',\n",
              "    }\n",
              "  };\n",
              "\n",
              "  cancel.remove();\n",
              "\n",
              "  // Disable the input element since further picks are not allowed.\n",
              "  inputElement.disabled = true;\n",
              "\n",
              "  if (!files) {\n",
              "    return {\n",
              "      response: {\n",
              "        action: 'complete',\n",
              "      }\n",
              "    };\n",
              "  }\n",
              "\n",
              "  for (const file of files) {\n",
              "    const li = document.createElement('li');\n",
              "    li.append(span(file.name, {fontWeight: 'bold'}));\n",
              "    li.append(span(\n",
              "        `(${file.type || 'n/a'}) - ${file.size} bytes, ` +\n",
              "        `last modified: ${\n",
              "            file.lastModifiedDate ? file.lastModifiedDate.toLocaleDateString() :\n",
              "                                    'n/a'} - `));\n",
              "    const percent = span('0% done');\n",
              "    li.appendChild(percent);\n",
              "\n",
              "    outputElement.appendChild(li);\n",
              "\n",
              "    const fileDataPromise = new Promise((resolve) => {\n",
              "      const reader = new FileReader();\n",
              "      reader.onload = (e) => {\n",
              "        resolve(e.target.result);\n",
              "      };\n",
              "      reader.readAsArrayBuffer(file);\n",
              "    });\n",
              "    // Wait for the data to be ready.\n",
              "    let fileData = yield {\n",
              "      promise: fileDataPromise,\n",
              "      response: {\n",
              "        action: 'continue',\n",
              "      }\n",
              "    };\n",
              "\n",
              "    // Use a chunked sending to avoid message size limits. See b/62115660.\n",
              "    let position = 0;\n",
              "    do {\n",
              "      const length = Math.min(fileData.byteLength - position, MAX_PAYLOAD_SIZE);\n",
              "      const chunk = new Uint8Array(fileData, position, length);\n",
              "      position += length;\n",
              "\n",
              "      const base64 = btoa(String.fromCharCode.apply(null, chunk));\n",
              "      yield {\n",
              "        response: {\n",
              "          action: 'append',\n",
              "          file: file.name,\n",
              "          data: base64,\n",
              "        },\n",
              "      };\n",
              "\n",
              "      let percentDone = fileData.byteLength === 0 ?\n",
              "          100 :\n",
              "          Math.round((position / fileData.byteLength) * 100);\n",
              "      percent.textContent = `${percentDone}% done`;\n",
              "\n",
              "    } while (position < fileData.byteLength);\n",
              "  }\n",
              "\n",
              "  // All done.\n",
              "  yield {\n",
              "    response: {\n",
              "      action: 'complete',\n",
              "    }\n",
              "  };\n",
              "}\n",
              "\n",
              "scope.google = scope.google || {};\n",
              "scope.google.colab = scope.google.colab || {};\n",
              "scope.google.colab._files = {\n",
              "  _uploadFiles,\n",
              "  _uploadFilesContinue,\n",
              "};\n",
              "})(self);\n",
              "</script> "
            ]
          },
          "metadata": {}
        },
        {
          "output_type": "stream",
          "name": "stdout",
          "text": [
            "Saving Train-22.csv to Train-22.csv\n"
          ]
        }
      ]
    },
    {
      "cell_type": "markdown",
      "source": [
        "# Functions\n"
      ],
      "metadata": {
        "id": "Hc95G5mwYEGR"
      }
    },
    {
      "cell_type": "code",
      "source": [
        "#finds distance between two datapoints over all the features x1=train,x2=test\n",
        "def distance(x1,x2,index1,index2):\n",
        "  c=x1.shape[1]\n",
        "  ans=0\n",
        "  for i in range (0,c):\n",
        "    ans=ans+(x1[index1][i]-x2[index2][i])**2\n",
        "  return (ans)**0.5"
      ],
      "metadata": {
        "id": "vRZzYhahBX1d"
      },
      "execution_count": null,
      "outputs": []
    },
    {
      "cell_type": "code",
      "source": [
        "#predicts what class the specific data point belongs to using knn x1=train,x2=test\n",
        "def predictor(x1,x2,y1,index,k):\n",
        "  n=len(x1)\n",
        "  dist=[]\n",
        "\n",
        "  if x1.all()==x2.all():\n",
        "    for i in range (0,n):\n",
        "      if i!=index:\n",
        "        dist.append((distance(x1,x2,i,index),i))\n",
        "  else:\n",
        "    for i in range (0,n):\n",
        "      dist.append((distance(x1,x2,i,index),i))\n",
        "\n",
        "  dist.sort()\n",
        "  a=np.zeros(5)\n",
        "  for i in range (0,k):\n",
        "    a[int(y1[dist[i][1]])]+=1\n",
        "  max_ind=0\n",
        "  val=0\n",
        "  for i in range (0,5):\n",
        "    if val<a[i]:\n",
        "      val=a[i]\n",
        "      max_ind=i\n",
        "  return max_ind"
      ],
      "metadata": {
        "id": "jDdFcmOY_wYt"
      },
      "execution_count": null,
      "outputs": []
    },
    {
      "cell_type": "code",
      "source": [
        "#Now a function to predict accuracy of the model\n",
        "def accuracy(x1,x2,y1,y2,k):\n",
        "  n=len(x2)\n",
        "  mat=np.zeros((2,2))\n",
        "  a=0\n",
        "  for i in range (0,n):\n",
        "    b=predictor(x1,x2,y1,i,k)\n",
        "    mat[predictor(x1,x2,y1,i,k)][int(y2[i])] += 1\n",
        "    if b==int(y2[i]):\n",
        "      a+=1\n",
        "  print(\"The confusion matrix is: \")\n",
        "  print(mat)\n",
        "  return a/n"
      ],
      "metadata": {
        "id": "ETJODy-HSk1O"
      },
      "execution_count": null,
      "outputs": []
    },
    {
      "cell_type": "code",
      "source": [
        "#Now a function to predict accuracy of the model\n",
        "def accuracy1(x1,x2,y1,y2,k):\n",
        "  n=len(x2)\n",
        "  mat=np.zeros((5,5))\n",
        "  a=0\n",
        "  for i in range (0,n):\n",
        "    b=predictor(x1,x2,y1,i,k)\n",
        "    mat[predictor(x1,x2,y1,i,k)][int(y2[i])] += 1\n",
        "    if b==int(y2[i]):\n",
        "      a+=1\n",
        "  print(\"The confusion matrix is: \")\n",
        "  print(mat)\n",
        "  return a/n"
      ],
      "metadata": {
        "id": "HwLkrSDkPg9u"
      },
      "execution_count": null,
      "outputs": []
    },
    {
      "cell_type": "code",
      "source": [
        "# x is x_train, y is y_train\n",
        "def decision_plot(x,y,df,k,title):\n",
        "  min1=df[\"input1\"].min()-1\n",
        "  max1=df[\"input1\"].max()+1\n",
        "  min2=df[\"input2\"].min()-1\n",
        "  max2=df[\"input2\"].max()+1\n",
        "  color_list=[\"palevioletred\",\"mediumturquoise\",\"tomato\",\"springgreen\",\"sandybrown\",]\n",
        "  resolution=0.1\n",
        "  x1grid=np.arange(min1,max1,resolution)\n",
        "  x2grid=np.arange(min2,max2,resolution)\n",
        "  yhat=[]\n",
        "\n",
        "  xx1,xx2=np.meshgrid(x1grid,x2grid)\n",
        "\n",
        "  x2=[]\n",
        "  for r in range(len(x2grid)):\n",
        "    for c in range(len(x1grid)):\n",
        "      x2.append([xx1[r][c],xx2[r][c]])\n",
        "  x2=np.array(x2)\n",
        "  for i in range(len(x1grid)*len(x2grid)):\n",
        "    yhat.append(predictor(x,x2,y,i,k))\n",
        "  yhat=np.array(yhat)\n",
        "  zz=yhat.reshape(xx1.shape)\n",
        "\n",
        "  plt.figure()\n",
        "  plt.contourf(xx1,xx2,zz,1, colors=color_list[:2],alpha=0.1)\n",
        "  X1 = df[df.output==0]\n",
        "  X2 = df[df.output==1]\n",
        "  X1 = np.array(X1.iloc[:,:])\n",
        "  X2 = np.array(X2.iloc[:,:])\n",
        "  plt.scatter(X1[:,1],X1[:,2],c='red')\n",
        "  plt.scatter(X2[:,1],X2[:,2],c='blue')\n",
        "  plt.xlabel(\"Input 1\")\n",
        "  plt.ylabel(\"Input 2\")\n",
        "  plt.title(title)\n",
        "  plt.show()"
      ],
      "metadata": {
        "id": "P09pP67Od7-m"
      },
      "execution_count": null,
      "outputs": []
    },
    {
      "cell_type": "markdown",
      "source": [
        "# Knns"
      ],
      "metadata": {
        "id": "y6qYqA_fYLPh"
      }
    },
    {
      "cell_type": "markdown",
      "source": [
        "## 1-a"
      ],
      "metadata": {
        "id": "9ZJWzdsTYVoZ"
      }
    },
    {
      "cell_type": "code",
      "source": [
        "df=pd.read_csv('Train-22.csv')"
      ],
      "metadata": {
        "id": "XOWN_2V89ec4"
      },
      "execution_count": null,
      "outputs": []
    },
    {
      "cell_type": "code",
      "source": [
        "x_train=np.array(df.iloc[:,1:3])\n",
        "y_train=np.array(df.iloc[:,3:4])"
      ],
      "metadata": {
        "id": "8ohCH9IFYAJb"
      },
      "execution_count": null,
      "outputs": []
    },
    {
      "cell_type": "code",
      "source": [
        "df=pd.read_csv('Test-22.csv')"
      ],
      "metadata": {
        "id": "QiC2mw4_XWPg"
      },
      "execution_count": null,
      "outputs": []
    },
    {
      "cell_type": "code",
      "source": [
        "x_test=np.array(df.iloc[:,1:3])\n",
        "y_test=np.array(df.iloc[:,3:4])"
      ],
      "metadata": {
        "id": "XmQQj4ayY2n1"
      },
      "execution_count": null,
      "outputs": []
    },
    {
      "cell_type": "code",
      "source": [
        "df=pd.read_csv('Val-22.csv')"
      ],
      "metadata": {
        "id": "_ovVtVMPAgY7"
      },
      "execution_count": null,
      "outputs": []
    },
    {
      "cell_type": "code",
      "source": [
        "x_val=np.array(df.iloc[:,1:3])\n",
        "y_val=np.array(df.iloc[:,3:4])"
      ],
      "metadata": {
        "id": "sWHJA_IJBDzh"
      },
      "execution_count": null,
      "outputs": []
    },
    {
      "cell_type": "markdown",
      "source": [
        "### K=1"
      ],
      "metadata": {
        "id": "JHwwYnb_CHKk"
      }
    },
    {
      "cell_type": "code",
      "source": [
        "print(\"Accuracy is \",accuracy(x_train,x_train,y_train,y_train,1))"
      ],
      "metadata": {
        "colab": {
          "base_uri": "https://localhost:8080/"
        },
        "id": "ANFXTZNAdE9e",
        "outputId": "d2b27af2-b876-4efd-9f3b-3d52c1945f4b"
      },
      "execution_count": null,
      "outputs": [
        {
          "output_type": "stream",
          "name": "stdout",
          "text": [
            "The confusion matrix is: \n",
            "[[181.   0.]\n",
            " [  1. 178.]]\n",
            "Accuracy is  0.9972222222222222\n"
          ]
        }
      ]
    },
    {
      "cell_type": "code",
      "source": [
        "df=pd.read_csv('Train-22.csv')\n",
        "decision_plot(x_train,y_train,df,1,\"For K=1, training data\")"
      ],
      "metadata": {
        "colab": {
          "base_uri": "https://localhost:8080/",
          "height": 472
        },
        "id": "zPHyqNj6jZ3y",
        "outputId": "51fa0ee4-be70-4daa-90dd-1b9596fdc261"
      },
      "execution_count": null,
      "outputs": [
        {
          "output_type": "display_data",
          "data": {
            "text/plain": [
              "<Figure size 640x480 with 1 Axes>"
            ],
            "image/png": "[encoded data removed]"
          },
          "metadata": {}
        }
      ]
    },
    {
      "cell_type": "code",
      "source": [
        "print(\"Accuracy is \",accuracy(x_train,x_val,y_train,y_val,1))"
      ],
      "metadata": {
        "colab": {
          "base_uri": "https://localhost:8080/"
        },
        "id": "MGSsPRWhCRRJ",
        "outputId": "3527027a-922e-4ef1-f3e1-373f12166dca"
      },
      "execution_count": null,
      "outputs": [
        {
          "output_type": "stream",
          "name": "stdout",
          "text": [
            "The confusion matrix is: \n",
            "[[45.  0.]\n",
            " [ 2. 43.]]\n",
            "Accuracy is  0.9777777777777777\n"
          ]
        }
      ]
    },
    {
      "cell_type": "code",
      "source": [
        "print(\"Accuracy is \",accuracy(x_train,x_test,y_train,y_test,1))"
      ],
      "metadata": {
        "colab": {
          "base_uri": "https://localhost:8080/"
        },
        "id": "V3SsgxeRClWu",
        "outputId": "5fa7f329-9121-43d3-c809-2d4b105336e1"
      },
      "execution_count": null,
      "outputs": [
        {
          "output_type": "stream",
          "name": "stdout",
          "text": [
            "The confusion matrix is: \n",
            "[[21.  0.]\n",
            " [ 0. 29.]]\n",
            "Accuracy is  1.0\n"
          ]
        }
      ]
    },
    {
      "cell_type": "code",
      "source": [
        "df=pd.read_csv('Test-22.csv')\n",
        "decision_plot(x_train,y_train,df,1,\"For K=1, Test data\")"
      ],
      "metadata": {
        "colab": {
          "base_uri": "https://localhost:8080/",
          "height": 472
        },
        "id": "FC7rV6ii0f3Q",
        "outputId": "f8606064-febc-484c-cd32-abb75fa0b9ae"
      },
      "execution_count": null,
      "outputs": [
        {
          "output_type": "display_data",
          "data": {
            "text/plain": [
              "<Figure size 640x480 with 1 Axes>"
            ],
            "image/png": "[encoded data removed]"
          },
          "metadata": {}
        }
      ]
    },
    {
      "cell_type": "markdown",
      "source": [
        "### K=7"
      ],
      "metadata": {
        "id": "nAwVekuMFaxm"
      }
    },
    {
      "cell_type": "code",
      "source": [
        "print(\"Accuracy is \",accuracy(x_train,x_train,y_train,y_train,7))"
      ],
      "metadata": {
        "colab": {
          "base_uri": "https://localhost:8080/"
        },
        "id": "nnMAadFwCOeP",
        "outputId": "53553ef3-99d3-4ab4-9c82-0d8e0d101fee"
      },
      "execution_count": null,
      "outputs": [
        {
          "output_type": "stream",
          "name": "stdout",
          "text": [
            "The confusion matrix is: \n",
            "[[181.   0.]\n",
            " [  1. 178.]]\n",
            "Accuracy is  0.9972222222222222\n"
          ]
        }
      ]
    },
    {
      "cell_type": "code",
      "source": [
        "print(\"Accuracy is \",accuracy(x_train,x_val,y_train,y_val,7))"
      ],
      "metadata": {
        "colab": {
          "base_uri": "https://localhost:8080/"
        },
        "id": "5WK1Ao0vCOg3",
        "outputId": "2b859ba8-58de-47d4-d0e6-11f21c330aaf"
      },
      "execution_count": null,
      "outputs": [
        {
          "output_type": "stream",
          "name": "stdout",
          "text": [
            "The confusion matrix is: \n",
            "[[45.  0.]\n",
            " [ 2. 43.]]\n",
            "Accuracy is  0.9777777777777777\n"
          ]
        }
      ]
    },
    {
      "cell_type": "code",
      "source": [
        "print(\"Accuracy is \",accuracy(x_train,x_test,y_train,y_test,7))"
      ],
      "metadata": {
        "colab": {
          "base_uri": "https://localhost:8080/"
        },
        "id": "MF62LCScFjXl",
        "outputId": "7f95e592-6662-4879-b64b-859d135d343f"
      },
      "execution_count": null,
      "outputs": [
        {
          "output_type": "stream",
          "name": "stdout",
          "text": [
            "The confusion matrix is: \n",
            "[[20.  0.]\n",
            " [ 1. 29.]]\n",
            "Accuracy is  0.98\n"
          ]
        }
      ]
    },
    {
      "cell_type": "markdown",
      "source": [
        "### K=15"
      ],
      "metadata": {
        "id": "cgxhTv0bFxKd"
      }
    },
    {
      "cell_type": "code",
      "source": [
        "print(\"Accuracy is \",accuracy(x_train,x_train,y_train,y_train,15))"
      ],
      "metadata": {
        "colab": {
          "base_uri": "https://localhost:8080/"
        },
        "id": "8mqlb7zQGIkw",
        "outputId": "8c14c93d-3473-4f6d-9134-a72518100088"
      },
      "execution_count": null,
      "outputs": [
        {
          "output_type": "stream",
          "name": "stdout",
          "text": [
            "The confusion matrix is: \n",
            "[[181.   0.]\n",
            " [  1. 178.]]\n",
            "Accuracy is  0.9972222222222222\n"
          ]
        }
      ]
    },
    {
      "cell_type": "code",
      "source": [
        "print(\"Accuracy is \",accuracy(x_train,x_val,y_train,y_val,15))"
      ],
      "metadata": {
        "colab": {
          "base_uri": "https://localhost:8080/"
        },
        "id": "wld2lHCbGKWL",
        "outputId": "a0a90e1b-e5df-4f7d-80af-bf758cfebf42"
      },
      "execution_count": null,
      "outputs": [
        {
          "output_type": "stream",
          "name": "stdout",
          "text": [
            "The confusion matrix is: \n",
            "[[46.  0.]\n",
            " [ 1. 43.]]\n",
            "Accuracy is  0.9888888888888889\n"
          ]
        }
      ]
    },
    {
      "cell_type": "code",
      "source": [
        "df=pd.read_csv('Val-22.csv')\n",
        "decision_plot(x_train,y_train,df,15,\"For K=15, Validation data\")"
      ],
      "metadata": {
        "colab": {
          "base_uri": "https://localhost:8080/",
          "height": 472
        },
        "id": "ovvRjsPOzXOS",
        "outputId": "4eb74968-431c-4374-fe13-d95276f2d449"
      },
      "execution_count": null,
      "outputs": [
        {
          "output_type": "display_data",
          "data": {
            "text/plain": [
              "<Figure size 640x480 with 1 Axes>"
            ],
            "image/png": "[encoded data removed]"
          },
          "metadata": {}
        }
      ]
    },
    {
      "cell_type": "code",
      "source": [
        "print(\"Accuracy is \",accuracy(x_train,x_test,y_train,y_test,15))"
      ],
      "metadata": {
        "colab": {
          "base_uri": "https://localhost:8080/"
        },
        "id": "b98zT_RzGNdF",
        "outputId": "ddbe22d7-dfb8-4a5b-9379-53805f9b843e"
      },
      "execution_count": null,
      "outputs": [
        {
          "output_type": "stream",
          "name": "stdout",
          "text": [
            "The confusion matrix is: \n",
            "[[20.  0.]\n",
            " [ 1. 29.]]\n",
            "Accuracy is  0.98\n"
          ]
        }
      ]
    },
    {
      "cell_type": "markdown",
      "source": [
        "## 1(b)"
      ],
      "metadata": {
        "id": "wFuKfMpp08Xb"
      }
    },
    {
      "cell_type": "code",
      "source": [
        "df=pd.read_csv('Train-1.csv')"
      ],
      "metadata": {
        "id": "XS70NISa1KGh"
      },
      "execution_count": null,
      "outputs": []
    },
    {
      "cell_type": "code",
      "source": [
        "x_train=np.array(df.iloc[:,1:3])\n",
        "y_train=np.array(df.iloc[:,3:4])"
      ],
      "metadata": {
        "id": "EP5dKgSp1-I9"
      },
      "execution_count": null,
      "outputs": []
    },
    {
      "cell_type": "code",
      "source": [
        "df=pd.read_csv('Val-1.csv')"
      ],
      "metadata": {
        "id": "ThlScNPk2IJE"
      },
      "execution_count": null,
      "outputs": []
    },
    {
      "cell_type": "code",
      "source": [
        "x_val=np.array(df.iloc[:,1:3])\n",
        "y_val=np.array(df.iloc[:,3:4])"
      ],
      "metadata": {
        "id": "80tLSi1O2LSU"
      },
      "execution_count": null,
      "outputs": []
    },
    {
      "cell_type": "code",
      "source": [
        "df=pd.read_csv('Test-1.csv')"
      ],
      "metadata": {
        "id": "_pMjFx_-2PAH"
      },
      "execution_count": null,
      "outputs": []
    },
    {
      "cell_type": "code",
      "source": [
        "x_test=np.array(df.iloc[:,1:3])\n",
        "y_test=np.array(df.iloc[:,3:4])"
      ],
      "metadata": {
        "id": "rcHn_O9w2UB1"
      },
      "execution_count": null,
      "outputs": []
    },
    {
      "cell_type": "code",
      "source": [
        "# x is x_train, y is y_train\n",
        "def decision_plot(x,y,df,k,title):\n",
        "  min1=df[\"x1\"].min()-1\n",
        "  max1=df[\"x1\"].max()+1\n",
        "  min2=df[\"x2\"].min()-1\n",
        "  max2=df[\"x2\"].max()+1\n",
        "  color_list=[\"palevioletred\",\"mediumturquoise\",\"tomato\",\"springgreen\",\"sandybrown\",]\n",
        "  resolution=0.1\n",
        "  x1grid=np.arange(min1,max1,resolution)\n",
        "  x2grid=np.arange(min2,max2,resolution)\n",
        "  yhat=[]\n",
        "\n",
        "  xx1,xx2=np.meshgrid(x1grid,x2grid)\n",
        "\n",
        "  x2=[]\n",
        "  for r in range(len(x2grid)):\n",
        "    for c in range(len(x1grid)):\n",
        "      x2.append([xx1[r][c],xx2[r][c]])\n",
        "  x2=np.array(x2)\n",
        "  for i in range(len(x1grid)*len(x2grid)):\n",
        "    yhat.append(predictor(x,x2,y,i,k))\n",
        "  yhat=np.array(yhat)\n",
        "  zz=yhat.reshape(xx1.shape)\n",
        "\n",
        "  plt.figure()\n",
        "  plt.contourf(xx1,xx2,zz,1, colors=color_list[:2],alpha=0.1)\n",
        "  X1 = df[df.label==0]\n",
        "  X2 = df[df.label==1]\n",
        "  X1 = np.array(X1.iloc[:,:])\n",
        "  X2 = np.array(X2.iloc[:,:])\n",
        "  plt.scatter(X1[:,1],X1[:,2],c='red')\n",
        "  plt.scatter(X2[:,1],X2[:,2],c='blue')\n",
        "  plt.xlabel(\"Input 1\")\n",
        "  plt.ylabel(\"Input 2\")\n",
        "  plt.title(title)\n",
        "  plt.show()"
      ],
      "metadata": {
        "id": "4_ou54be2scQ"
      },
      "execution_count": null,
      "outputs": []
    },
    {
      "cell_type": "markdown",
      "source": [
        "### K=1"
      ],
      "metadata": {
        "id": "-gugwths2Y0y"
      }
    },
    {
      "cell_type": "code",
      "source": [
        "print(\"Accuracy is \",accuracy(x_train,x_train,y_train,y_train,1))"
      ],
      "metadata": {
        "colab": {
          "base_uri": "https://localhost:8080/"
        },
        "id": "KwJvnNpe2XHS",
        "outputId": "af240a6a-dd74-4000-b144-5da8d8857ac6"
      },
      "execution_count": null,
      "outputs": [
        {
          "output_type": "stream",
          "name": "stdout",
          "text": [
            "The confusion matrix is: \n",
            "[[274.   0.]\n",
            " [  0. 288.]]\n",
            "Accuracy is  1.0\n"
          ]
        }
      ]
    },
    {
      "cell_type": "code",
      "source": [
        "df=pd.read_csv('Train-1.csv')\n",
        "decision_plot(x_train,y_train,df,1,\"For K=1, Train data\")"
      ],
      "metadata": {
        "colab": {
          "base_uri": "https://localhost:8080/",
          "height": 472
        },
        "id": "Gmvr1k-m1LDX",
        "outputId": "acaac644-6f90-40f6-fd4c-9e2facc8d764"
      },
      "execution_count": null,
      "outputs": [
        {
          "output_type": "display_data",
          "data": {
            "text/plain": [
              "<Figure size 640x480 with 1 Axes>"
            ],
            "image/png": "[encoded data removed]"
          },
          "metadata": {}
        }
      ]
    },
    {
      "cell_type": "code",
      "source": [
        "print(\"Accuracy is \",accuracy(x_train,x_val,y_train,y_val,1))"
      ],
      "metadata": {
        "colab": {
          "base_uri": "https://localhost:8080/"
        },
        "id": "abT57uLX2-M6",
        "outputId": "1c46d162-50d5-47cf-b87a-86e86afea090"
      },
      "execution_count": null,
      "outputs": [
        {
          "output_type": "stream",
          "name": "stdout",
          "text": [
            "The confusion matrix is: \n",
            "[[82.  0.]\n",
            " [ 0. 77.]]\n",
            "Accuracy is  1.0\n"
          ]
        }
      ]
    },
    {
      "cell_type": "code",
      "source": [
        "print(\"Accuracy is \",accuracy(x_train,x_test,y_train,y_test,1))"
      ],
      "metadata": {
        "colab": {
          "base_uri": "https://localhost:8080/"
        },
        "id": "ymVQyGhY3LhD",
        "outputId": "8dbc9322-e647-4852-feb4-dc0ba4223efc"
      },
      "execution_count": null,
      "outputs": [
        {
          "output_type": "stream",
          "name": "stdout",
          "text": [
            "The confusion matrix is: \n",
            "[[45.  0.]\n",
            " [ 0. 36.]]\n",
            "Accuracy is  1.0\n"
          ]
        }
      ]
    },
    {
      "cell_type": "markdown",
      "source": [
        "### K=7"
      ],
      "metadata": {
        "id": "xbXJg4Fa3WVl"
      }
    },
    {
      "cell_type": "code",
      "source": [
        "print(\"Accuracy is \",accuracy(x_train,x_train,y_train,y_train,7))"
      ],
      "metadata": {
        "colab": {
          "base_uri": "https://localhost:8080/"
        },
        "id": "hUHwdTdn3QY_",
        "outputId": "ef01762e-1d70-4087-f195-5c62f0d01ad8"
      },
      "execution_count": null,
      "outputs": [
        {
          "output_type": "stream",
          "name": "stdout",
          "text": [
            "The confusion matrix is: \n",
            "[[274.   0.]\n",
            " [  0. 288.]]\n",
            "Accuracy is  1.0\n"
          ]
        }
      ]
    },
    {
      "cell_type": "code",
      "source": [
        "print(\"Accuracy is \",accuracy(x_train,x_val,y_train,y_val,7))"
      ],
      "metadata": {
        "colab": {
          "base_uri": "https://localhost:8080/"
        },
        "id": "EZrRsxCy3kFo",
        "outputId": "01bf04d5-7e8a-4e7f-c75c-c28dba41ccc2"
      },
      "execution_count": null,
      "outputs": [
        {
          "output_type": "stream",
          "name": "stdout",
          "text": [
            "The confusion matrix is: \n",
            "[[82.  0.]\n",
            " [ 0. 77.]]\n",
            "Accuracy is  1.0\n"
          ]
        }
      ]
    },
    {
      "cell_type": "code",
      "source": [
        "df=pd.read_csv('Val-1.csv')\n",
        "decision_plot(x_train,y_train,df,7,\"For K=7, Validation data\")"
      ],
      "metadata": {
        "colab": {
          "base_uri": "https://localhost:8080/",
          "height": 472
        },
        "id": "qW-_Dxo2B1Gf",
        "outputId": "1f96f284-7509-4b21-b1cb-22d168c57884"
      },
      "execution_count": null,
      "outputs": [
        {
          "output_type": "display_data",
          "data": {
            "text/plain": [
              "<Figure size 640x480 with 1 Axes>"
            ],
            "image/png": "[encoded data removed]"
          },
          "metadata": {}
        }
      ]
    },
    {
      "cell_type": "code",
      "source": [
        "print(\"Accuracy is \",accuracy(x_train,x_test,y_train,y_test,7))"
      ],
      "metadata": {
        "colab": {
          "base_uri": "https://localhost:8080/"
        },
        "id": "Up_sHvO23l2n",
        "outputId": "fa0580a3-7bf6-4fa4-d415-4149afe42887"
      },
      "execution_count": null,
      "outputs": [
        {
          "output_type": "stream",
          "name": "stdout",
          "text": [
            "The confusion matrix is: \n",
            "[[45.  0.]\n",
            " [ 0. 36.]]\n",
            "Accuracy is  1.0\n"
          ]
        }
      ]
    },
    {
      "cell_type": "markdown",
      "source": [
        "### K=15"
      ],
      "metadata": {
        "id": "9vahEnT44Nuj"
      }
    },
    {
      "cell_type": "code",
      "source": [
        "print(\"Accuracy is \",accuracy(x_train,x_train,y_train,y_train,15))"
      ],
      "metadata": {
        "colab": {
          "base_uri": "https://localhost:8080/"
        },
        "id": "hzoBF1vN4LUT",
        "outputId": "4396b9ab-44cf-400d-c4e5-020eb45812ec"
      },
      "execution_count": null,
      "outputs": [
        {
          "output_type": "stream",
          "name": "stdout",
          "text": [
            "The confusion matrix is: \n",
            "[[274.   0.]\n",
            " [  0. 288.]]\n",
            "Accuracy is  1.0\n"
          ]
        }
      ]
    },
    {
      "cell_type": "code",
      "source": [
        "print(\"Accuracy is \",accuracy(x_train,x_val,y_train,y_val,15))"
      ],
      "metadata": {
        "colab": {
          "base_uri": "https://localhost:8080/"
        },
        "id": "Gl7woUx-4TCa",
        "outputId": "c0a0ad40-8d74-45bc-b4f3-67f090965dc1"
      },
      "execution_count": null,
      "outputs": [
        {
          "output_type": "stream",
          "name": "stdout",
          "text": [
            "The confusion matrix is: \n",
            "[[82.  0.]\n",
            " [ 0. 77.]]\n",
            "Accuracy is  1.0\n"
          ]
        }
      ]
    },
    {
      "cell_type": "code",
      "source": [
        "print(\"Accuracy is \",accuracy(x_train,x_test,y_train,y_test,15))"
      ],
      "metadata": {
        "colab": {
          "base_uri": "https://localhost:8080/"
        },
        "id": "hJggDy1L4URz",
        "outputId": "3ffa8793-a88f-474e-b5f7-2294109e174b"
      },
      "execution_count": null,
      "outputs": [
        {
          "output_type": "stream",
          "name": "stdout",
          "text": [
            "The confusion matrix is: \n",
            "[[45.  0.]\n",
            " [ 0. 36.]]\n",
            "Accuracy is  1.0\n"
          ]
        }
      ]
    },
    {
      "cell_type": "code",
      "source": [
        "df=pd.read_csv('Test-1.csv')\n",
        "decision_plot(x_train,y_train,df,15,\"For K=15, Test data\")"
      ],
      "metadata": {
        "colab": {
          "base_uri": "https://localhost:8080/",
          "height": 472
        },
        "id": "1XRANdKhB8PW",
        "outputId": "370d718f-4480-4f6b-cd0a-39e7ba2905ce"
      },
      "execution_count": null,
      "outputs": [
        {
          "output_type": "display_data",
          "data": {
            "text/plain": [
              "<Figure size 640x480 with 1 Axes>"
            ],
            "image/png": "[encoded data removed]"
          },
          "metadata": {}
        }
      ]
    },
    {
      "cell_type": "markdown",
      "source": [
        "## 2"
      ],
      "metadata": {
        "id": "duds0hoh_A4C"
      }
    },
    {
      "cell_type": "code",
      "source": [
        "df=pd.read_csv('train_data.csv')"
      ],
      "metadata": {
        "id": "pgLRu838_DdG"
      },
      "execution_count": null,
      "outputs": []
    },
    {
      "cell_type": "code",
      "source": [
        "x_train=np.array(df.iloc[:,:])"
      ],
      "metadata": {
        "id": "2YQDGhBO_PM9"
      },
      "execution_count": null,
      "outputs": []
    },
    {
      "cell_type": "code",
      "source": [
        "df=pd.read_csv('train_label.csv')"
      ],
      "metadata": {
        "id": "Aq9X-3tj_bGk"
      },
      "execution_count": null,
      "outputs": []
    },
    {
      "cell_type": "code",
      "source": [
        "y_train=np.array(df.iloc[:,:])"
      ],
      "metadata": {
        "id": "1fg4c2y6_fqt"
      },
      "execution_count": null,
      "outputs": []
    },
    {
      "cell_type": "code",
      "source": [
        "df=pd.read_csv('test_data.csv')"
      ],
      "metadata": {
        "id": "x7nc1_BBNuhn"
      },
      "execution_count": null,
      "outputs": []
    },
    {
      "cell_type": "code",
      "source": [
        "x_test=np.array(df.iloc[:,:])"
      ],
      "metadata": {
        "id": "8AoFxyXpNuk0"
      },
      "execution_count": null,
      "outputs": []
    },
    {
      "cell_type": "code",
      "source": [
        "df=pd.read_csv('test_label.csv')"
      ],
      "metadata": {
        "id": "UTSNRFKgNuo_"
      },
      "execution_count": null,
      "outputs": []
    },
    {
      "cell_type": "code",
      "source": [
        "y_test=np.array(df.iloc[:,:])"
      ],
      "metadata": {
        "id": "OiYvzTUVNuqr"
      },
      "execution_count": null,
      "outputs": []
    },
    {
      "cell_type": "code",
      "source": [
        "df=pd.read_csv('val_data.csv')"
      ],
      "metadata": {
        "id": "qLDQiX93N9UA"
      },
      "execution_count": null,
      "outputs": []
    },
    {
      "cell_type": "code",
      "source": [
        "x_val=np.array(df.iloc[:,:])"
      ],
      "metadata": {
        "id": "JzW8mr26OEo7"
      },
      "execution_count": null,
      "outputs": []
    },
    {
      "cell_type": "code",
      "source": [
        "df=pd.read_csv('val_label.csv')"
      ],
      "metadata": {
        "id": "4dKm6_DTOJQK"
      },
      "execution_count": null,
      "outputs": []
    },
    {
      "cell_type": "code",
      "source": [
        "y_val=np.array(df.iloc[:,:])"
      ],
      "metadata": {
        "id": "UE9kcDeLOLsI"
      },
      "execution_count": null,
      "outputs": []
    },
    {
      "cell_type": "markdown",
      "source": [
        "### K=1"
      ],
      "metadata": {
        "id": "WILpDJQuQO5F"
      }
    },
    {
      "cell_type": "code",
      "source": [
        "print(\"Accuracy is \",accuracy1(x_train,x_train,y_train,y_train,1))"
      ],
      "metadata": {
        "colab": {
          "base_uri": "https://localhost:8080/"
        },
        "id": "9d9vKOABAdI6",
        "outputId": "6df87fa0-b332-40f2-c67b-99409dcff04e"
      },
      "execution_count": null,
      "outputs": [
        {
          "output_type": "stream",
          "name": "stdout",
          "text": [
            "The confusion matrix is: \n",
            "[[532.  51.  67.  78.  47.]\n",
            " [ 32. 239. 138. 126.  84.]\n",
            " [ 34. 103. 166.  60. 132.]\n",
            " [ 78. 200. 188. 343. 213.]\n",
            " [ 23. 107. 141.  93. 224.]]\n",
            "Accuracy is  0.42983709631323236\n"
          ]
        }
      ]
    },
    {
      "cell_type": "code",
      "source": [
        "print(\"Accuracy is \",accuracy1(x_train,x_test,y_train,y_test,1))"
      ],
      "metadata": {
        "colab": {
          "base_uri": "https://localhost:8080/"
        },
        "id": "z7_UpuwvNqvz",
        "outputId": "bc2d4d49-82d4-41be-962d-32a104391906"
      },
      "execution_count": null,
      "outputs": [
        {
          "output_type": "stream",
          "name": "stdout",
          "text": [
            "The confusion matrix is: \n",
            "[[75.  7. 11. 12.  8.]\n",
            " [ 5. 35. 16. 13. 14.]\n",
            " [ 5. 14. 24. 13. 13.]\n",
            " [11. 36. 35. 52. 32.]\n",
            " [ 3.  8. 14. 10. 33.]]\n",
            "Accuracy is  0.43887775551102204\n"
          ]
        }
      ]
    },
    {
      "cell_type": "code",
      "source": [
        "print(\"Accuracy is \",accuracy1(x_train,x_val,y_train,y_val,1))"
      ],
      "metadata": {
        "colab": {
          "base_uri": "https://localhost:8080/"
        },
        "id": "1DrEFdAeQcXb",
        "outputId": "4a1593d2-6c06-43d0-a458-b3f921f68f9a"
      },
      "execution_count": null,
      "outputs": [
        {
          "output_type": "stream",
          "name": "stdout",
          "text": [
            "The confusion matrix is: \n",
            "[[152.  15.  18.  23.  14.]\n",
            " [  5.  67.  39.  29.  22.]\n",
            " [ 10.  32.  57.  16.  41.]\n",
            " [ 27.  60.  54. 115.  43.]\n",
            " [  5.  26.  32.  17.  80.]]\n",
            "Accuracy is  0.47147147147147145\n"
          ]
        }
      ]
    },
    {
      "cell_type": "markdown",
      "source": [
        "### K=7"
      ],
      "metadata": {
        "id": "f4NyVnJsQhHX"
      }
    },
    {
      "cell_type": "code",
      "source": [
        "print(\"Accuracy is \",accuracy1(x_train,x_train,y_train,y_train,7))"
      ],
      "metadata": {
        "colab": {
          "base_uri": "https://localhost:8080/"
        },
        "id": "EQgkqktmQgJT",
        "outputId": "ea2fe001-7012-4776-f4b3-48143d0cd04e"
      },
      "execution_count": null,
      "outputs": [
        {
          "output_type": "stream",
          "name": "stdout",
          "text": [
            "The confusion matrix is: \n",
            "[[610.  69.  92.  74.  48.]\n",
            " [  9. 273. 119.  96.  96.]\n",
            " [ 14.  69. 163.  49. 123.]\n",
            " [ 62. 224. 223. 448. 231.]\n",
            " [  4.  65. 103.  33. 202.]]\n",
            "Accuracy is  0.4847099171191769\n"
          ]
        }
      ]
    },
    {
      "cell_type": "code",
      "source": [
        "print(\"Accuracy is \",accuracy1(x_train,x_test,y_train,y_test,7))"
      ],
      "metadata": {
        "colab": {
          "base_uri": "https://localhost:8080/"
        },
        "id": "2Y5O0g7sQmFX",
        "outputId": "7e3bf999-a0db-4c6d-d088-cb6f1f1ba46a"
      },
      "execution_count": null,
      "outputs": [
        {
          "output_type": "stream",
          "name": "stdout",
          "text": [
            "The confusion matrix is: \n",
            "[[87. 12. 14. 13.  9.]\n",
            " [ 2. 40. 16.  9.  9.]\n",
            " [ 3.  9. 23.  9. 17.]\n",
            " [ 6. 32. 33. 62. 37.]\n",
            " [ 1.  7. 14.  7. 28.]]\n",
            "Accuracy is  0.48096192384769537\n"
          ]
        }
      ]
    },
    {
      "cell_type": "code",
      "source": [
        "print(\"Accuracy is \",accuracy1(x_train,x_val,y_train,y_val,7))"
      ],
      "metadata": {
        "colab": {
          "base_uri": "https://localhost:8080/"
        },
        "id": "syj2UehTQnEo",
        "outputId": "939077c8-9d53-4959-bd94-ecec18b3d15d"
      },
      "execution_count": null,
      "outputs": [
        {
          "output_type": "stream",
          "name": "stdout",
          "text": [
            "The confusion matrix is: \n",
            "[[171.  21.  23.  23.  17.]\n",
            " [  3.  73.  38.  25.  29.]\n",
            " [  2.  19.  47.   8.  41.]\n",
            " [ 23.  73.  61. 134.  49.]\n",
            " [  0.  14.  31.  10.  64.]]\n",
            "Accuracy is  0.4894894894894895\n"
          ]
        }
      ]
    },
    {
      "cell_type": "markdown",
      "source": [
        "### K=15"
      ],
      "metadata": {
        "id": "800TUqGTQq0r"
      }
    },
    {
      "cell_type": "code",
      "source": [
        "print(\"Accuracy is \",accuracy1(x_train,x_train,y_train,y_train,15))"
      ],
      "metadata": {
        "colab": {
          "base_uri": "https://localhost:8080/"
        },
        "id": "mpzgvEbcQppb",
        "outputId": "6a62e816-e88a-4439-b93d-ceef7fe233fa"
      },
      "execution_count": null,
      "outputs": [
        {
          "output_type": "stream",
          "name": "stdout",
          "text": [
            "The confusion matrix is: \n",
            "[[617.  57.  89.  71.  44.]\n",
            " [  2. 245.  92.  54.  64.]\n",
            " [  8.  56. 137.  32.  87.]\n",
            " [ 65. 273. 266. 512. 267.]\n",
            " [  7.  69. 116.  31. 238.]]\n",
            "Accuracy is  0.4998571020291512\n"
          ]
        }
      ]
    },
    {
      "cell_type": "code",
      "source": [
        "print(\"Accuracy is \",accuracy1(x_train,x_test,y_train,y_test,15))"
      ],
      "metadata": {
        "colab": {
          "base_uri": "https://localhost:8080/"
        },
        "id": "SZ46d4QDQvFR",
        "outputId": "a24ae686-7d05-4275-89f0-aaccde6eaacc"
      },
      "execution_count": null,
      "outputs": [
        {
          "output_type": "stream",
          "name": "stdout",
          "text": [
            "The confusion matrix is: \n",
            "[[88.  7. 13. 11.  7.]\n",
            " [ 0. 34.  7.  3.  7.]\n",
            " [ 1.  9. 15.  7. 15.]\n",
            " [ 8. 42. 46. 71. 38.]\n",
            " [ 2.  8. 19.  8. 33.]]\n",
            "Accuracy is  0.48296593186372744\n"
          ]
        }
      ]
    },
    {
      "cell_type": "code",
      "source": [
        "print(\"Accuracy is \",accuracy1(x_train,x_val,y_train,y_val,15))"
      ],
      "metadata": {
        "colab": {
          "base_uri": "https://localhost:8080/"
        },
        "id": "zFtik9e4Qv7y",
        "outputId": "16dc6e9c-ce5c-4074-bca4-9f7c0decdc0b"
      },
      "execution_count": null,
      "outputs": [
        {
          "output_type": "stream",
          "name": "stdout",
          "text": [
            "The confusion matrix is: \n",
            "[[178.  19.  19.  19.  13.]\n",
            " [  2.  64.  22.  15.  19.]\n",
            " [  0.  18.  43.   7.  30.]\n",
            " [ 18.  84.  84. 153.  61.]\n",
            " [  1.  15.  32.   6.  77.]]\n",
            "Accuracy is  0.5155155155155156\n"
          ]
        }
      ]
    },
    {
      "cell_type": "code",
      "source": [
        "x1_min,x2_min=np.min(x_train[:, 0])-1,np.min(x_train[:, 1])-1\n",
        "x1_max,x2_max=np.max(x_train[:, 0])+1,np.max(x_train[:, 1])+1\n",
        "xx, yy = np.meshgrid(np.linspace(x1_min, x1_max, 36), np.linspace(x2_min, x2_max, 10))\n",
        "z=[]\n",
        "n=len(x_train)\n",
        "for i in range (0,n):\n",
        "  z.append(predictor(x_train,x_train,y_train,i,1))\n",
        "z=np.array(z)\n",
        "z=np.round(z).reshape(xx.shape)\n",
        "#plt.contour(xx,yy,z,levels=[0.1], colors='r')\n",
        "plt.scatter(x_train[:, 0],x_train[:, 1],c=z,marker='o',edgecolors='k')\n",
        "plt.show()"
      ],
      "metadata": {
        "id": "_dLHEAkxoTvR"
      },
      "execution_count": null,
      "outputs": []
    },
    {
      "cell_type": "markdown",
      "source": [
        "# Naive-Bayes"
      ],
      "metadata": {
        "id": "59-gfATB7ElA"
      }
    },
    {
      "cell_type": "markdown",
      "source": [
        "## Functions"
      ],
      "metadata": {
        "id": "MhwtdzfgaA_V"
      }
    },
    {
      "cell_type": "code",
      "source": [
        "#function to find cov matrix and mean vector\n",
        "def cov_mat(x):\n",
        "  sig11=0\n",
        "  sig22=0\n",
        "  sig12=0\n",
        "  mean1=0\n",
        "  mean2=0\n",
        "  n=len(x)\n",
        "  for i in range (0,n):\n",
        "    mean1 += x[i][0]\n",
        "    mean2 += x[i][1]\n",
        "  mean1=mean1/n\n",
        "  mean2=mean2/n\n",
        "  for i in range (0,n):\n",
        "    sig11 += (x[i][0]-mean1)**2\n",
        "    sig22 += (x[i][1]-mean2)**2\n",
        "    #sig12 += ((x[i][0]-mean1)*(x[i][1]-mean2))\n",
        "  sig11=sig11/n\n",
        "  sig22=sig22/n\n",
        "  #sig12=sig12/n\n",
        "  cov=[[sig11,sig12],[sig12,sig22]]\n",
        "  mean_vec=[mean1,mean2]\n",
        "  return cov,mean_vec"
      ],
      "metadata": {
        "id": "c6fMYHo2D-h9"
      },
      "execution_count": null,
      "outputs": []
    },
    {
      "cell_type": "code",
      "source": [
        "def likelihood(x, mean, cov):\n",
        "    inv_cov = np.linalg.inv(cov)\n",
        "    det_cov = np.linalg.det(cov)\n",
        "    exponent = -0.5 * np.dot(np.dot((x - mean), inv_cov), (x - mean).T)\n",
        "    return (1.0 / (2 * np.pi * np.sqrt(det_cov))) * np.exp(exponent)"
      ],
      "metadata": {
        "id": "afQNiySAHbuX"
      },
      "execution_count": null,
      "outputs": []
    },
    {
      "cell_type": "code",
      "source": [
        "# x is a 1x2 vector ,mean1 is 1x2 vec for mean of class1\n",
        "# mean2 is 1x2 vec for mean of class2, prior probabilities p1,p2\n",
        "# cov1 is the covariance matrix of class 1 similarly cov2\n",
        "def predict(x,mean1,mean2,mean_vec,p1,p2,cov1,cov2):\n",
        "  prob1= likelihood(x,mean1,cov1)*p1\n",
        "  prob2= likelihood(x,mean2,cov2)*p2\n",
        "  if prob1>prob2:\n",
        "    return 0\n",
        "  else:\n",
        "    return 1"
      ],
      "metadata": {
        "id": "SkQy1JXIJUHG"
      },
      "execution_count": null,
      "outputs": []
    },
    {
      "cell_type": "code",
      "source": [
        "# x is the test the thing we are testing on\n",
        "def accu(x,y,mean1,mean2,mean_vec,p1,p2,cov1,cov2):\n",
        "  n=len(x)\n",
        "  a=0\n",
        "  mat=np.zeros((2,2))\n",
        "  for i in range (0,n):\n",
        "    b=predict(x[i],mean1,mean2,mean_vec,p1,p2,cov1,cov2)\n",
        "    mat[predict(x[i],mean1,mean2,mean_vec,p1,p2,cov1,cov2)][int(y[i])] += 1\n",
        "    if b==int(y[i]):\n",
        "      a+=1\n",
        "  print(\"The confusion matrix is: \")\n",
        "  print(mat)\n",
        "  return a/n"
      ],
      "metadata": {
        "id": "mjKkhAPdTe76"
      },
      "execution_count": null,
      "outputs": []
    },
    {
      "cell_type": "code",
      "source": [
        "def prior_prob(y):\n",
        "  a=[0,0]\n",
        "  for i in range (0,len(y)):\n",
        "    a[int(y[i])] +=1\n",
        "  a[0]=a[0]/len(y)\n",
        "  a[1]=a[1]/len(y)\n",
        "  return a"
      ],
      "metadata": {
        "id": "vZzQUaW8Uqro"
      },
      "execution_count": null,
      "outputs": []
    },
    {
      "cell_type": "code",
      "source": [
        "#num is class number 0 or 1\n",
        "def mean_indi(x,y,num):\n",
        "  mean=[0,0]\n",
        "  for i in range (0,len(x)):\n",
        "    if int(y[i])==num:\n",
        "      mean += x[i]\n",
        "  mean[0]=mean[0]/len(x)\n",
        "  mean[1]=mean[1]/len(x)\n",
        "  return mean"
      ],
      "metadata": {
        "id": "9yFshgB8VNRc"
      },
      "execution_count": null,
      "outputs": []
    },
    {
      "cell_type": "code",
      "source": [
        "df=pd.read_csv('Train-22.csv')"
      ],
      "metadata": {
        "id": "VWRj8vVBZgyV"
      },
      "execution_count": null,
      "outputs": []
    },
    {
      "cell_type": "code",
      "source": [
        "x_train=np.array(df.iloc[:,1:3])\n",
        "y_train=np.array(df.iloc[:,3:4])"
      ],
      "metadata": {
        "id": "B4Han7YEZg9m"
      },
      "execution_count": null,
      "outputs": []
    },
    {
      "cell_type": "code",
      "source": [
        "df=pd.read_csv('Test-22.csv')"
      ],
      "metadata": {
        "id": "DBxY7WuGZpFZ",
        "colab": {
          "base_uri": "https://localhost:8080/",
          "height": 321
        },
        "outputId": "d029f8e9-87e0-44f8-b34d-fc627a11549d"
      },
      "execution_count": null,
      "outputs": [
        {
          "output_type": "error",
          "ename": "FileNotFoundError",
          "evalue": "ignored",
          "traceback": [
            "\u001b[0;31m---------------------------------------------------------------------------\u001b[0m",
            "\u001b[0;31mFileNotFoundError\u001b[0m                         Traceback (most recent call last)",
            "\u001b[0;32m<ipython-input-11-8860fd7c7f0e>\u001b[0m in \u001b[0;36m<cell line: 1>\u001b[0;34m()\u001b[0m\n\u001b[0;32m----> 1\u001b[0;31m \u001b[0mdf\u001b[0m\u001b[0;34m=\u001b[0m\u001b[0mpd\u001b[0m\u001b[0;34m.\u001b[0m\u001b[0mread_csv\u001b[0m\u001b[0;34m(\u001b[0m\u001b[0;34m'Test-22.csv'\u001b[0m\u001b[0;34m)\u001b[0m\u001b[0;34m\u001b[0m\u001b[0;34m\u001b[0m\u001b[0m\n\u001b[0m",
            "\u001b[0;32m/usr/local/lib/python3.10/dist-packages/pandas/util/_decorators.py\u001b[0m in \u001b[0;36mwrapper\u001b[0;34m(*args, **kwargs)\u001b[0m\n\u001b[1;32m    209\u001b[0m                 \u001b[0;32melse\u001b[0m\u001b[0;34m:\u001b[0m\u001b[0;34m\u001b[0m\u001b[0;34m\u001b[0m\u001b[0m\n\u001b[1;32m    210\u001b[0m                     \u001b[0mkwargs\u001b[0m\u001b[0;34m[\u001b[0m\u001b[0mnew_arg_name\u001b[0m\u001b[0;34m]\u001b[0m \u001b[0;34m=\u001b[0m \u001b[0mnew_arg_value\u001b[0m\u001b[0;34m\u001b[0m\u001b[0;34m\u001b[0m\u001b[0m\n\u001b[0;32m--> 211\u001b[0;31m             \u001b[0;32mreturn\u001b[0m \u001b[0mfunc\u001b[0m\u001b[0;34m(\u001b[0m\u001b[0;34m*\u001b[0m\u001b[0margs\u001b[0m\u001b[0;34m,\u001b[0m \u001b[0;34m**\u001b[0m\u001b[0mkwargs\u001b[0m\u001b[0;34m)\u001b[0m\u001b[0;34m\u001b[0m\u001b[0;34m\u001b[0m\u001b[0m\n\u001b[0m\u001b[1;32m    212\u001b[0m \u001b[0;34m\u001b[0m\u001b[0m\n\u001b[1;32m    213\u001b[0m         \u001b[0;32mreturn\u001b[0m \u001b[0mcast\u001b[0m\u001b[0;34m(\u001b[0m\u001b[0mF\u001b[0m\u001b[0;34m,\u001b[0m \u001b[0mwrapper\u001b[0m\u001b[0;34m)\u001b[0m\u001b[0;34m\u001b[0m\u001b[0;34m\u001b[0m\u001b[0m\n",
            "\u001b[0;32m/usr/local/lib/python3.10/dist-packages/pandas/util/_decorators.py\u001b[0m in \u001b[0;36mwrapper\u001b[0;34m(*args, **kwargs)\u001b[0m\n\u001b[1;32m    329\u001b[0m                     \u001b[0mstacklevel\u001b[0m\u001b[0;34m=\u001b[0m\u001b[0mfind_stack_level\u001b[0m\u001b[0;34m(\u001b[0m\u001b[0;34m)\u001b[0m\u001b[0;34m,\u001b[0m\u001b[0;34m\u001b[0m\u001b[0;34m\u001b[0m\u001b[0m\n\u001b[1;32m    330\u001b[0m                 )\n\u001b[0;32m--> 331\u001b[0;31m             \u001b[0;32mreturn\u001b[0m \u001b[0mfunc\u001b[0m\u001b[0;34m(\u001b[0m\u001b[0;34m*\u001b[0m\u001b[0margs\u001b[0m\u001b[0;34m,\u001b[0m \u001b[0;34m**\u001b[0m\u001b[0mkwargs\u001b[0m\u001b[0;34m)\u001b[0m\u001b[0;34m\u001b[0m\u001b[0;34m\u001b[0m\u001b[0m\n\u001b[0m\u001b[1;32m    332\u001b[0m \u001b[0;34m\u001b[0m\u001b[0m\n\u001b[1;32m    333\u001b[0m         \u001b[0;31m# error: \"Callable[[VarArg(Any), KwArg(Any)], Any]\" has no\u001b[0m\u001b[0;34m\u001b[0m\u001b[0;34m\u001b[0m\u001b[0m\n",
            "\u001b[0;32m/usr/local/lib/python3.10/dist-packages/pandas/io/parsers/readers.py\u001b[0m in \u001b[0;36mread_csv\u001b[0;34m(filepath_or_buffer, sep, delimiter, header, names, index_col, usecols, squeeze, prefix, mangle_dupe_cols, dtype, engine, converters, true_values, false_values, skipinitialspace, skiprows, skipfooter, nrows, na_values, keep_default_na, na_filter, verbose, skip_blank_lines, parse_dates, infer_datetime_format, keep_date_col, date_parser, dayfirst, cache_dates, iterator, chunksize, compression, thousands, decimal, lineterminator, quotechar, quoting, doublequote, escapechar, comment, encoding, encoding_errors, dialect, error_bad_lines, warn_bad_lines, on_bad_lines, delim_whitespace, low_memory, memory_map, float_precision, storage_options)\u001b[0m\n\u001b[1;32m    948\u001b[0m     \u001b[0mkwds\u001b[0m\u001b[0;34m.\u001b[0m\u001b[0mupdate\u001b[0m\u001b[0;34m(\u001b[0m\u001b[0mkwds_defaults\u001b[0m\u001b[0;34m)\u001b[0m\u001b[0;34m\u001b[0m\u001b[0;34m\u001b[0m\u001b[0m\n\u001b[1;32m    949\u001b[0m \u001b[0;34m\u001b[0m\u001b[0m\n\u001b[0;32m--> 950\u001b[0;31m     \u001b[0;32mreturn\u001b[0m \u001b[0m_read\u001b[0m\u001b[0;34m(\u001b[0m\u001b[0mfilepath_or_buffer\u001b[0m\u001b[0;34m,\u001b[0m \u001b[0mkwds\u001b[0m\u001b[0;34m)\u001b[0m\u001b[0;34m\u001b[0m\u001b[0;34m\u001b[0m\u001b[0m\n\u001b[0m\u001b[1;32m    951\u001b[0m \u001b[0;34m\u001b[0m\u001b[0m\n\u001b[1;32m    952\u001b[0m \u001b[0;34m\u001b[0m\u001b[0m\n",
            "\u001b[0;32m/usr/local/lib/python3.10/dist-packages/pandas/io/parsers/readers.py\u001b[0m in \u001b[0;36m_read\u001b[0;34m(filepath_or_buffer, kwds)\u001b[0m\n\u001b[1;32m    603\u001b[0m \u001b[0;34m\u001b[0m\u001b[0m\n\u001b[1;32m    604\u001b[0m     \u001b[0;31m# Create the parser.\u001b[0m\u001b[0;34m\u001b[0m\u001b[0;34m\u001b[0m\u001b[0m\n\u001b[0;32m--> 605\u001b[0;31m     \u001b[0mparser\u001b[0m \u001b[0;34m=\u001b[0m \u001b[0mTextFileReader\u001b[0m\u001b[0;34m(\u001b[0m\u001b[0mfilepath_or_buffer\u001b[0m\u001b[0;34m,\u001b[0m \u001b[0;34m**\u001b[0m\u001b[0mkwds\u001b[0m\u001b[0;34m)\u001b[0m\u001b[0;34m\u001b[0m\u001b[0;34m\u001b[0m\u001b[0m\n\u001b[0m\u001b[1;32m    606\u001b[0m \u001b[0;34m\u001b[0m\u001b[0m\n\u001b[1;32m    607\u001b[0m     \u001b[0;32mif\u001b[0m \u001b[0mchunksize\u001b[0m \u001b[0;32mor\u001b[0m \u001b[0miterator\u001b[0m\u001b[0;34m:\u001b[0m\u001b[0;34m\u001b[0m\u001b[0;34m\u001b[0m\u001b[0m\n",
            "\u001b[0;32m/usr/local/lib/python3.10/dist-packages/pandas/io/parsers/readers.py\u001b[0m in \u001b[0;36m__init__\u001b[0;34m(self, f, engine, **kwds)\u001b[0m\n\u001b[1;32m   1440\u001b[0m \u001b[0;34m\u001b[0m\u001b[0m\n\u001b[1;32m   1441\u001b[0m         \u001b[0mself\u001b[0m\u001b[0;34m.\u001b[0m\u001b[0mhandles\u001b[0m\u001b[0;34m:\u001b[0m \u001b[0mIOHandles\u001b[0m \u001b[0;34m|\u001b[0m \u001b[0;32mNone\u001b[0m \u001b[0;34m=\u001b[0m \u001b[0;32mNone\u001b[0m\u001b[0;34m\u001b[0m\u001b[0;34m\u001b[0m\u001b[0m\n\u001b[0;32m-> 1442\u001b[0;31m         \u001b[0mself\u001b[0m\u001b[0;34m.\u001b[0m\u001b[0m_engine\u001b[0m \u001b[0;34m=\u001b[0m \u001b[0mself\u001b[0m\u001b[0;34m.\u001b[0m\u001b[0m_make_engine\u001b[0m\u001b[0;34m(\u001b[0m\u001b[0mf\u001b[0m\u001b[0;34m,\u001b[0m \u001b[0mself\u001b[0m\u001b[0;34m.\u001b[0m\u001b[0mengine\u001b[0m\u001b[0;34m)\u001b[0m\u001b[0;34m\u001b[0m\u001b[0;34m\u001b[0m\u001b[0m\n\u001b[0m\u001b[1;32m   1443\u001b[0m \u001b[0;34m\u001b[0m\u001b[0m\n\u001b[1;32m   1444\u001b[0m     \u001b[0;32mdef\u001b[0m \u001b[0mclose\u001b[0m\u001b[0;34m(\u001b[0m\u001b[0mself\u001b[0m\u001b[0;34m)\u001b[0m \u001b[0;34m->\u001b[0m \u001b[0;32mNone\u001b[0m\u001b[0;34m:\u001b[0m\u001b[0;34m\u001b[0m\u001b[0;34m\u001b[0m\u001b[0m\n",
            "\u001b[0;32m/usr/local/lib/python3.10/dist-packages/pandas/io/parsers/readers.py\u001b[0m in \u001b[0;36m_make_engine\u001b[0;34m(self, f, engine)\u001b[0m\n\u001b[1;32m   1733\u001b[0m                 \u001b[0;32mif\u001b[0m \u001b[0;34m\"b\"\u001b[0m \u001b[0;32mnot\u001b[0m \u001b[0;32min\u001b[0m \u001b[0mmode\u001b[0m\u001b[0;34m:\u001b[0m\u001b[0;34m\u001b[0m\u001b[0;34m\u001b[0m\u001b[0m\n\u001b[1;32m   1734\u001b[0m                     \u001b[0mmode\u001b[0m \u001b[0;34m+=\u001b[0m \u001b[0;34m\"b\"\u001b[0m\u001b[0;34m\u001b[0m\u001b[0;34m\u001b[0m\u001b[0m\n\u001b[0;32m-> 1735\u001b[0;31m             self.handles = get_handle(\n\u001b[0m\u001b[1;32m   1736\u001b[0m                 \u001b[0mf\u001b[0m\u001b[0;34m,\u001b[0m\u001b[0;34m\u001b[0m\u001b[0;34m\u001b[0m\u001b[0m\n\u001b[1;32m   1737\u001b[0m                 \u001b[0mmode\u001b[0m\u001b[0;34m,\u001b[0m\u001b[0;34m\u001b[0m\u001b[0;34m\u001b[0m\u001b[0m\n",
            "\u001b[0;32m/usr/local/lib/python3.10/dist-packages/pandas/io/common.py\u001b[0m in \u001b[0;36mget_handle\u001b[0;34m(path_or_buf, mode, encoding, compression, memory_map, is_text, errors, storage_options)\u001b[0m\n\u001b[1;32m    854\u001b[0m         \u001b[0;32mif\u001b[0m \u001b[0mioargs\u001b[0m\u001b[0;34m.\u001b[0m\u001b[0mencoding\u001b[0m \u001b[0;32mand\u001b[0m \u001b[0;34m\"b\"\u001b[0m \u001b[0;32mnot\u001b[0m \u001b[0;32min\u001b[0m \u001b[0mioargs\u001b[0m\u001b[0;34m.\u001b[0m\u001b[0mmode\u001b[0m\u001b[0;34m:\u001b[0m\u001b[0;34m\u001b[0m\u001b[0;34m\u001b[0m\u001b[0m\n\u001b[1;32m    855\u001b[0m             \u001b[0;31m# Encoding\u001b[0m\u001b[0;34m\u001b[0m\u001b[0;34m\u001b[0m\u001b[0m\n\u001b[0;32m--> 856\u001b[0;31m             handle = open(\n\u001b[0m\u001b[1;32m    857\u001b[0m                 \u001b[0mhandle\u001b[0m\u001b[0;34m,\u001b[0m\u001b[0;34m\u001b[0m\u001b[0;34m\u001b[0m\u001b[0m\n\u001b[1;32m    858\u001b[0m                 \u001b[0mioargs\u001b[0m\u001b[0;34m.\u001b[0m\u001b[0mmode\u001b[0m\u001b[0;34m,\u001b[0m\u001b[0;34m\u001b[0m\u001b[0;34m\u001b[0m\u001b[0m\n",
            "\u001b[0;31mFileNotFoundError\u001b[0m: [Errno 2] No such file or directory: 'Test-22.csv'"
          ]
        }
      ]
    },
    {
      "cell_type": "code",
      "source": [
        "x_test=np.array(df.iloc[:,1:3])\n",
        "y_test=np.array(df.iloc[:,3:4])"
      ],
      "metadata": {
        "id": "K0BlF3f4ZpJC"
      },
      "execution_count": null,
      "outputs": []
    },
    {
      "cell_type": "code",
      "source": [
        "df=pd.read_csv('Val-22.csv')"
      ],
      "metadata": {
        "id": "KiYw3Ee9ZpXV"
      },
      "execution_count": null,
      "outputs": []
    },
    {
      "cell_type": "code",
      "source": [
        "x_val=np.array(df.iloc[:,1:3])\n",
        "y_val=np.array(df.iloc[:,3:4])"
      ],
      "metadata": {
        "id": "5XFicb7qZpi1"
      },
      "execution_count": null,
      "outputs": []
    },
    {
      "cell_type": "code",
      "source": [
        "cov,mean_vec=cov_mat(x_train)"
      ],
      "metadata": {
        "id": "2WVqYyF5Vqkz"
      },
      "execution_count": null,
      "outputs": []
    },
    {
      "cell_type": "code",
      "source": [
        "mean1=mean_indi(x_train,y_train,0)\n",
        "mean2=mean_indi(x_train,y_train,1)"
      ],
      "metadata": {
        "id": "CI9Lsi5rV1rj"
      },
      "execution_count": null,
      "outputs": []
    },
    {
      "cell_type": "code",
      "source": [
        "p1,p2=prior_prob(y_train)"
      ],
      "metadata": {
        "id": "LNaQiM0UWo3k"
      },
      "execution_count": null,
      "outputs": []
    },
    {
      "cell_type": "markdown",
      "source": [
        "## Same covariance matrix"
      ],
      "metadata": {
        "id": "VsU95DcCZN-s"
      }
    },
    {
      "cell_type": "code",
      "source": [
        "# x is x_train, y is y_train\n",
        "def decision_plot(x,y,df,title,mean1,mean2,mean_vec,p1,p2,cov1,cov2):\n",
        "  min1=df[\"input1\"].min()-1\n",
        "  max1=df[\"input1\"].max()+1\n",
        "  min2=df[\"input2\"].min()-1\n",
        "  max2=df[\"input2\"].max()+1\n",
        "  color_list=[\"palevioletred\",\"mediumturquoise\",\"tomato\",\"springgreen\",\"sandybrown\",]\n",
        "  resolution=0.1\n",
        "  x1grid=np.arange(min1,max1,resolution)\n",
        "  x2grid=np.arange(min2,max2,resolution)\n",
        "  yhat=[]\n",
        "\n",
        "  xx1,xx2=np.meshgrid(x1grid,x2grid)\n",
        "\n",
        "  x2=[]\n",
        "  for r in range(len(x2grid)):\n",
        "    for c in range(len(x1grid)):\n",
        "      x2.append([xx1[r][c],xx2[r][c]])\n",
        "  x2=np.array(x2)\n",
        "  for i in range(len(x1grid)*len(x2grid)):\n",
        "    yhat.append(predict(x2[i],mean1,mean2,mean_vec,p1,p2,cov1,cov2))\n",
        "  yhat=np.array(yhat)\n",
        "  zz=yhat.reshape(xx1.shape)\n",
        "\n",
        "  plt.figure()\n",
        "  plt.contourf(xx1,xx2,zz,1, colors=color_list[:2],alpha=0.1)\n",
        "  X1 = df[df.output==0]\n",
        "  X2 = df[df.output==1]\n",
        "  X1 = np.array(X1.iloc[:,:])\n",
        "  X2 = np.array(X2.iloc[:,:])\n",
        "  plt.scatter(X1[:,1],X1[:,2],c='red')\n",
        "  plt.scatter(X2[:,1],X2[:,2],c='blue')\n",
        "  plt.xlabel(\"Input 1\")\n",
        "  plt.ylabel(\"Input 2\")\n",
        "  plt.title(title)\n",
        "  plt.show()"
      ],
      "metadata": {
        "id": "fHgGUAmdCWoK"
      },
      "execution_count": null,
      "outputs": []
    },
    {
      "cell_type": "code",
      "source": [
        "print(\"For training dataset\")\n",
        "accu(x_train,y_train,mean1,mean2,mean_vec,p1,p2,cov,cov)\n"
      ],
      "metadata": {
        "colab": {
          "base_uri": "https://localhost:8080/"
        },
        "id": "1IUIs8y3WylB",
        "outputId": "6a540edf-bc93-4280-86b5-aaf8e330f731"
      },
      "execution_count": null,
      "outputs": [
        {
          "output_type": "stream",
          "name": "stdout",
          "text": [
            "For training dataset\n",
            "The confusion matrix is: \n",
            "[[173.   0.]\n",
            " [  9. 178.]]\n"
          ]
        },
        {
          "output_type": "execute_result",
          "data": {
            "text/plain": [
              "0.975"
            ]
          },
          "metadata": {},
          "execution_count": 19
        }
      ]
    },
    {
      "cell_type": "code",
      "source": [
        "df=pd.read_csv('Train-22.csv')\n",
        "decision_plot(x_train,y_train,df,\"Naive-Bayes, training data(same covariance matrices)\",mean1,mean2,mean_vec,p1,p2,cov,cov)"
      ],
      "metadata": {
        "colab": {
          "base_uri": "https://localhost:8080/",
          "height": 472
        },
        "id": "YyR-eMqnC67Q",
        "outputId": "f4256d04-9c7f-4717-9f82-795b42110dcc"
      },
      "execution_count": null,
      "outputs": [
        {
          "output_type": "display_data",
          "data": {
            "text/plain": [
              "<Figure size 640x480 with 1 Axes>"
            ],
            "image/png": "[encoded data removed]"
          },
          "metadata": {}
        }
      ]
    },
    {
      "cell_type": "code",
      "source": [
        "print(\"For test dataset\")\n",
        "accu(x_test,y_test,mean1,mean2,mean_vec,p1,p2,cov,cov)"
      ],
      "metadata": {
        "colab": {
          "base_uri": "https://localhost:8080/"
        },
        "id": "pi6Jz4AyXvGx",
        "outputId": "7cc67c78-7aa3-4922-9b70-de4aafd35a13"
      },
      "execution_count": null,
      "outputs": [
        {
          "output_type": "stream",
          "name": "stdout",
          "text": [
            "For test dataset\n",
            "The confusion matrix is: \n",
            "[[18.  0.]\n",
            " [ 3. 29.]]\n"
          ]
        },
        {
          "output_type": "execute_result",
          "data": {
            "text/plain": [
              "0.94"
            ]
          },
          "metadata": {},
          "execution_count": 387
        }
      ]
    },
    {
      "cell_type": "code",
      "source": [
        "df=pd.read_csv('Test-22.csv')\n",
        "decision_plot(x_train,y_train,df,\"Naive Bayes, Test data (same covariance matrices)\",mean1,mean2,mean_vec,p1,p2,cov,cov)"
      ],
      "metadata": {
        "colab": {
          "base_uri": "https://localhost:8080/",
          "height": 472
        },
        "id": "sVDx7kgEDi7D",
        "outputId": "70c88e40-e45c-4b5d-adf4-1860c5069680"
      },
      "execution_count": null,
      "outputs": [
        {
          "output_type": "display_data",
          "data": {
            "text/plain": [
              "<Figure size 640x480 with 1 Axes>"
            ],
            "image/png": "[encoded data removed]"
          },
          "metadata": {}
        }
      ]
    },
    {
      "cell_type": "code",
      "source": [
        "print(\"For val dataset\")\n",
        "accu(x_val,y_val,mean1,mean2,mean_vec,p1,p2,cov,cov)"
      ],
      "metadata": {
        "colab": {
          "base_uri": "https://localhost:8080/"
        },
        "id": "atTI-krTYudp",
        "outputId": "5d9251f8-ad52-4405-adf3-a6492efc70ed"
      },
      "execution_count": null,
      "outputs": [
        {
          "output_type": "stream",
          "name": "stdout",
          "text": [
            "For val dataset\n",
            "The confusion matrix is: \n",
            "[[41.  0.]\n",
            " [ 6. 43.]]\n"
          ]
        },
        {
          "output_type": "execute_result",
          "data": {
            "text/plain": [
              "0.9333333333333333"
            ]
          },
          "metadata": {},
          "execution_count": 400
        }
      ]
    },
    {
      "cell_type": "markdown",
      "source": [
        "## Different covariance matrices"
      ],
      "metadata": {
        "id": "j4DodLobcJ2A"
      }
    },
    {
      "cell_type": "code",
      "source": [
        "df=pd.read_csv('Train-22.csv')"
      ],
      "metadata": {
        "id": "fMpP7l0WbENF"
      },
      "execution_count": null,
      "outputs": []
    },
    {
      "cell_type": "code",
      "source": [
        "X1 = df[df.output==0]\n",
        "X2 = df[df.output==1]"
      ],
      "metadata": {
        "id": "uwwCUdGhZ3l0"
      },
      "execution_count": null,
      "outputs": []
    },
    {
      "cell_type": "code",
      "source": [
        "x1=np.array(X1.iloc[:,1:3])\n",
        "y1=np.array(X1.iloc[:,3:4])\n",
        "x2=np.array(X2.iloc[:,1:3])\n",
        "y2=np.array(X2.iloc[:,3:4])"
      ],
      "metadata": {
        "id": "LsGNNF8Obdb2"
      },
      "execution_count": null,
      "outputs": []
    },
    {
      "cell_type": "code",
      "source": [
        "cov1,a= cov_mat(x1)\n",
        "cov2,b= cov_mat(x2)"
      ],
      "metadata": {
        "id": "zJfdXzK5bU4U"
      },
      "execution_count": null,
      "outputs": []
    },
    {
      "cell_type": "code",
      "source": [
        "print(\"For training dataset\")\n",
        "accuracy(x_train,y_train,mean1,mean2,mean_vec,p1,p2,cov1,cov2)"
      ],
      "metadata": {
        "colab": {
          "base_uri": "https://localhost:8080/"
        },
        "id": "HgB1iy5Zb6tR",
        "outputId": "ea829aa4-2df8-4e05-a59b-87d6c172bcd5"
      },
      "execution_count": null,
      "outputs": [
        {
          "output_type": "stream",
          "name": "stdout",
          "text": [
            "For training dataset\n",
            "The confusion matrix is: \n",
            "[[171.   0.]\n",
            " [ 11. 178.]]\n"
          ]
        },
        {
          "output_type": "execute_result",
          "data": {
            "text/plain": [
              "0.9694444444444444"
            ]
          },
          "metadata": {},
          "execution_count": 251
        }
      ]
    },
    {
      "cell_type": "code",
      "source": [
        "print(\"For test dataset\")\n",
        "accuracy(x_test,y_test,mean1,mean2,mean_vec,p1,p2,cov1,cov2)"
      ],
      "metadata": {
        "colab": {
          "base_uri": "https://localhost:8080/"
        },
        "id": "LrphH5wrcAXZ",
        "outputId": "0df86b11-e713-47e6-ef2d-5acdcea9f4b3"
      },
      "execution_count": null,
      "outputs": [
        {
          "output_type": "stream",
          "name": "stdout",
          "text": [
            "For test dataset\n",
            "The confusion matrix is: \n",
            "[[17.  0.]\n",
            " [ 4. 29.]]\n"
          ]
        },
        {
          "output_type": "execute_result",
          "data": {
            "text/plain": [
              "0.92"
            ]
          },
          "metadata": {},
          "execution_count": 252
        }
      ]
    },
    {
      "cell_type": "code",
      "source": [
        "print(\"For val dataset\")\n",
        "accuracy(x_val,y_val,mean1,mean2,mean_vec,p1,p2,cov1,cov2)"
      ],
      "metadata": {
        "colab": {
          "base_uri": "https://localhost:8080/"
        },
        "id": "btOsu58NcDrq",
        "outputId": "6887f5dd-b6a7-4e30-dd4a-4b35470f4da4"
      },
      "execution_count": null,
      "outputs": [
        {
          "output_type": "stream",
          "name": "stdout",
          "text": [
            "For val dataset\n",
            "The confusion matrix is: \n",
            "[[41.  0.]\n",
            " [ 6. 43.]]\n"
          ]
        },
        {
          "output_type": "execute_result",
          "data": {
            "text/plain": [
              "0.9333333333333333"
            ]
          },
          "metadata": {},
          "execution_count": 253
        }
      ]
    },
    {
      "cell_type": "code",
      "source": [
        "df=pd.read_csv('Val-22.csv')\n",
        "decision_plot(x_train,y_train,df,\"Naive Bayes, Validation data (different covariance matrices)\",mean1,mean2,mean_vec,p1,p2,cov1,cov2)"
      ],
      "metadata": {
        "id": "-Fb0IG1QcGcy",
        "colab": {
          "base_uri": "https://localhost:8080/",
          "height": 472
        },
        "outputId": "34257b7d-848d-4d21-f2a2-bf82b8b30be8"
      },
      "execution_count": null,
      "outputs": [
        {
          "output_type": "display_data",
          "data": {
            "text/plain": [
              "<Figure size 640x480 with 1 Axes>"
            ],
            "image/png": "[encoded data removed]"
          },
          "metadata": {}
        }
      ]
    },
    {
      "cell_type": "code",
      "source": [],
      "metadata": {
        "id": "yxAP-zbPEC2b"
      },
      "execution_count": null,
      "outputs": []
    }
  ]
}